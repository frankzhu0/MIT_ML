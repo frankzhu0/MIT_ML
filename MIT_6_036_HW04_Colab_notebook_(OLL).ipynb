{
  "nbformat": 4,
  "nbformat_minor": 0,
  "metadata": {
    "colab": {
      "name": "MIT 6.036 HW04 Colab notebook (OLL)",
      "provenance": [],
      "collapsed_sections": [],
      "include_colab_link": true
    },
    "kernelspec": {
      "name": "python3",
      "display_name": "Python 3"
    }
  },
  "cells": [
    {
      "cell_type": "markdown",
      "metadata": {
        "id": "view-in-github",
        "colab_type": "text"
      },
      "source": [
        "<a href=\"https://colab.research.google.com/github/frankzhu0/MIT_ML/blob/main/MIT_6_036_HW04_Colab_notebook_(OLL).ipynb\" target=\"_parent\"><img src=\"https://colab.research.google.com/assets/colab-badge.svg\" alt=\"Open In Colab\"/></a>"
      ]
    },
    {
      "cell_type": "markdown",
      "metadata": {
        "id": "Wmv3jlgr4_Ji"
      },
      "source": [
        "# MIT 6.036 Spring 2019: Homework 4\n",
        "This homework does not include provided Python code. Instead, we\n",
        "encourage you to write your own code to help you answer some of these\n",
        "problems, and/or test and debug the code components we do ask for.\n",
        "Some of the problems below are simple enough that hand calculation\n",
        "should be possible; your hand solutions can serve as test cases for\n",
        "your code.  You may also find that including utilities written in\n",
        "previous labs (like a `sd` or signed distance function) will be\n",
        "helpful, as you build up additional functions and utilities for\n",
        "calculation of margins, different loss functions, gradients, and other\n",
        "functions needed for margin maximization and gradient descent."
      ]
    },
    {
      "cell_type": "code",
      "metadata": {
        "id": "N622h8-D5i-M"
      },
      "source": [
        "import numpy as np"
      ],
      "execution_count": 1,
      "outputs": []
    },
    {
      "cell_type": "code",
      "metadata": {
        "colab": {
          "base_uri": "https://localhost:8080/"
        },
        "id": "qbjKJPVeZ-JK",
        "outputId": "88a08993-c02a-43f7-ed2b-618a7336a726"
      },
      "source": [
        "data = np.array([[1, 2, 1, 2, 10, 10.3, 10.5, 10.7],\n",
        "                 [1, 1, 2, 2,  2,  2,  2, 2]])\n",
        "labels = np.array([[-1, -1, 1, 1, 1, 1, 1, 1]])\n",
        "blue_th = np.array([[0, 1]]).T\n",
        "blue_th0 = -1.5\n",
        "red_th = np.array([[1, 0]]).T\n",
        "red_th0 = -2.5\n",
        "\n",
        "def margin(data, labels, th, th0): \n",
        "  return labels*(np.dot(th.T, data)+th0)/np.linalg.norm(th)\n",
        "\n",
        "def q1(data, labels, th, th0): \n",
        "  s_sum = np.sum(margin(data, labels, th, th0))\n",
        "  s_max = np.amax(margin(data, labels, th, th0))\n",
        "  s_min = np.amin(margin(data, labels, th, th0))\n",
        "  print(\"s_sum: {}, s_max: {}, s_min: {}\".format(s_sum, s_max, s_min))\n",
        "\n",
        "q1(data, labels, blue_th, blue_th0)\n",
        "q1(data, labels, red_th, red_th0)\n"
      ],
      "execution_count": 9,
      "outputs": [
        {
          "output_type": "stream",
          "text": [
            "s_sum: 4.0, s_max: 0.5, s_min: 0.5\n",
            "s_sum: 31.5, s_max: 8.2, s_min: -1.5\n",
            "[0.16666666666666663, 0.16666666666666663, 0.16666666666666663, 0.16666666666666663, 0.16666666666666663, 0.16666666666666663, 0.16666666666666663, 0.16666666666666663]\n"
          ],
          "name": "stdout"
        }
      ]
    },
    {
      "cell_type": "code",
      "metadata": {
        "colab": {
          "base_uri": "https://localhost:8080/"
        },
        "id": "QsIcYEYWNDgZ",
        "outputId": "77a88332-3256-4616-a46d-784aa201aa6c"
      },
      "source": [
        "def hinge_loss(margins, ref):\n",
        "  k = []\n",
        "  for margin in margins.flatten():\n",
        "    if margin < ref:\n",
        "      k.append(1-margin/ref)\n",
        "    else: \n",
        "      k.append(0)\n",
        "  return k\n",
        "\n",
        "data = np.array([[1.1, 1, 4],[3.1, 1, 2]])\n",
        "labels = np.array([[1, -1, -1]])\n",
        "th = np.array([[1, 1]]).T\n",
        "th0 = -4\n",
        "\n",
        "margins = margin(data, labels, th, th0)\n",
        "\n",
        "print(hinge_loss(margins, (2**0.5)/2))\n"
      ],
      "execution_count": 11,
      "outputs": [
        {
          "output_type": "stream",
          "text": [
            "[0.7999999999999998, 0, 3.0]\n"
          ],
          "name": "stdout"
        }
      ]
    },
    {
      "cell_type": "markdown",
      "metadata": {
        "id": "jUS51a8m5rEI"
      },
      "source": [
        "## 6) Implementing gradient descent\n",
        "In this section we will implement generic versions of gradient descent and apply these to the SVM objective.\n",
        "\n",
        "<b>Note: </b> If you need a refresher on gradient descent,\n",
        "you may want to reference\n",
        "<a href=\"https://openlearninglibrary.mit.edu/courses/course-v1:MITx+6.036+1T2019/courseware/Week4/gradient_descent/2\">this week's notes</a>.\n",
        "\n",
        "### 6.1) Implementing Gradient Descent\n",
        "We want to find the $x$ that minimizes the value of the *objective\n",
        "function* $f(x)$, for an arbitrary scalar function $f$.  The function\n",
        "$f$ will be implemented as a Python function of one argument, that\n",
        "will be a numpy column vector.  For efficiency, we will work with\n",
        "Python functions that return not just the value of $f$ at $f(x)$ but\n",
        "also return the gradient vector at $x$, that is, $\\nabla_x f(x)$.\n",
        "\n",
        "We will now implement a generic gradient descent function, `gd`, that\n",
        "has the following input arguments:\n",
        "\n",
        "* `f`: a function whose input is an `x`, a column vector, and\n",
        "  returns a scalar.\n",
        "* `df`: a function whose input is an `x`, a column vector, and\n",
        "  returns a column vector representing the gradient of `f` at `x`.\n",
        "* `x0`: an initial value of $x$, `x0`, which is a column vector.\n",
        "* `step_size_fn`: a function that is given the iteration index (an\n",
        "  integer) and returns a step size.\n",
        "* `max_iter`: the number of iterations to perform\n",
        "\n",
        "Our function `gd` returns a tuple:\n",
        "\n",
        "* `x`: the value at the final step\n",
        "* `fs`: the list of values of `f` found during all the iterations (including `f(x0)`)\n",
        "* `xs`: the list of values of `x` found during all the iterations (including `x0`)\n",
        "\n",
        "**Hint:** This is a short function!\n",
        "\n",
        "**Hint 2:** If you do `temp_x = x` where `x` is a vector\n",
        "(numpy array), then `temp_x` is just another name for the same vector\n",
        "as `x` and changing an entry in one will change an entry in the other.\n",
        "You should either use `x.copy()` or remember to change entries back after modification.\n",
        "\n",
        "Some utilities you may find useful are included below."
      ]
    },
    {
      "cell_type": "code",
      "metadata": {
        "id": "fYOF0HS34YOj"
      },
      "source": [
        "def rv(value_list):\n",
        "    return np.array([value_list])\n",
        "\n",
        "def cv(value_list):\n",
        "    return np.transpose(rv(value_list))\n",
        "\n",
        "def f1(x):\n",
        "    return float((2 * x + 3)**2)\n",
        "\n",
        "def df1(x):\n",
        "    return 2 * 2 * (2 * x + 3)\n",
        "\n",
        "def f2(v):\n",
        "    x = float(v[0]); y = float(v[1])\n",
        "    return (x - 2.) * (x - 3.) * (x + 3.) * (x + 1.) + (x + y -1)**2\n",
        "\n",
        "def df2(v):\n",
        "    x = float(v[0]); y = float(v[1])\n",
        "    return cv([(-3. + x) * (-2. + x) * (1. + x) + \\\n",
        "               (-3. + x) * (-2. + x) * (3. + x) + \\\n",
        "               (-3. + x) * (1. + x) * (3. + x) + \\\n",
        "               (-2. + x) * (1. + x) * (3. + x) + \\\n",
        "               2 * (-1. + x + y),\n",
        "               2 * (-1. + x + y)])"
      ],
      "execution_count": 4,
      "outputs": []
    },
    {
      "cell_type": "markdown",
      "metadata": {
        "id": "s03NFuxG6kvt"
      },
      "source": [
        "The main function to implement is `gd`, defined below."
      ]
    },
    {
      "cell_type": "code",
      "metadata": {
        "id": "mNsLE3bg6jt9"
      },
      "source": [
        "def gd(f, df, x0, step_size_fn, max_iter):\n",
        "    def helper(x_curr, fs, xs, it):\n",
        "      if it == 0:\n",
        "        return (x_curr, fs, xs) \n",
        "      else: \n",
        "        x_curr = x_curr - step_size_fn(it)*df(x_curr)\n",
        "        fs.append(f(x_curr))\n",
        "        xs.append(x_curr)\n",
        "        if abs(fs[-1]-fs[-2])< 0.001:\n",
        "          return (x_curr, fs, xs) \n",
        "        return helper(x_curr, fs, xs, it-1)\n",
        "    \n",
        "    return helper(x0, [f(x0)], [x0], max_iter)"
      ],
      "execution_count": 29,
      "outputs": []
    },
    {
      "cell_type": "markdown",
      "metadata": {
        "id": "jXu60n-H5_Hz"
      },
      "source": [
        "To evaluate results, we also use a simple `package_ans` function,\n",
        "which checks the final `x`, as well as the first and last values in\n",
        "`fs`, `xs`."
      ]
    },
    {
      "cell_type": "code",
      "metadata": {
        "id": "GJcClaqN4nE6"
      },
      "source": [
        "def package_ans(gd_vals):\n",
        "    x, fs, xs = gd_vals\n",
        "    return [x.tolist(), [fs[0], fs[-1]], [xs[0].tolist(), xs[-1].tolist()]]"
      ],
      "execution_count": 7,
      "outputs": []
    },
    {
      "cell_type": "markdown",
      "metadata": {
        "id": "aN_XbacQ6Rue"
      },
      "source": [
        "The test cases are provided below, but you should feel free (and are encouraged!) to write more of your own."
      ]
    },
    {
      "cell_type": "code",
      "metadata": {
        "id": "jq0OJLEf6Dan",
        "colab": {
          "base_uri": "https://localhost:8080/"
        },
        "outputId": "c75c1af6-b6bc-4bfc-da89-6110bfda492f"
      },
      "source": [
        "# Test case 1\n",
        "ans=package_ans(gd(f1, df1, cv([0.]), lambda i: 0.1, 1000))\n",
        "\n",
        "print(ans)\n",
        "\n",
        "# Test case 2\n",
        "ans=package_ans(gd(f2, df2, cv([0., 0.]), lambda i: 0.01, 1000))\n",
        "\n",
        "print(ans)"
      ],
      "execution_count": 32,
      "outputs": [
        {
          "output_type": "stream",
          "text": [
            "[[[-1.4976]], [9.0, 2.303999999999919e-05], [[[0.0]], [[-1.4976]]]]\n",
            "[[[-2.19939451249183], [3.0466744378576185]], [19.0, -20.942893167180028], [[[0.0], [0.0]], [[-2.19939451249183], [3.0466744378576185]]]]\n"
          ],
          "name": "stdout"
        }
      ]
    },
    {
      "cell_type": "markdown",
      "metadata": {
        "id": "pbuSt5hY645k"
      },
      "source": [
        "### 6.2) Numerical Gradient\n",
        "Getting the analytic gradient correct for complicated functions is\n",
        "tricky.  A very handy method of verifying the analytic gradient or\n",
        "even substituting for it is to estimate the gradient at a point by\n",
        "means of *finite differences*.\n",
        "\n",
        "Assume that we are given a function $f(x)$ that takes a column vector\n",
        "as its argument and returns a scalar value.  In gradient descent, we\n",
        "will want to estimate the gradient of $f$ at a particular $x_0.$\n",
        "\n",
        "The $i^{th}$ component of $\\nabla_x f(x_0)$ can be estimated as\n",
        "$$\\frac{f(x_0+\\delta^{i}) - f(x_0-\\delta^{i})}{2\\delta}$$\n",
        "where $\\delta^{i}$ is a column vector whose $i^{th}$ coordinate is\n",
        "$\\delta$, a small constant such as 0.001, and whose other components\n",
        "are zero.\n",
        "Note that adding or subtracting $\\delta^{i}$ is the same as\n",
        "incrementing or decrementing the $i^{th}$ component of $x_0$ by\n",
        "$\\delta$, leaving the other components of $x_0$ unchanged.  Using\n",
        "these results, we can estimate the $i^{th}$ component of the gradient.\n",
        "\n",
        "For example, if $x_0 = (1,1,\\dots,1)^T$ and $\\delta = 0.01$,\n",
        "we may approximate the first component of $\\nabla_x f(x_0)$ as\n",
        "$$\\frac{f((1,1,1,\\dots)^T+(0.01,0,0,\\dots)^T) - f((1,1,1,\\dots)^T-(0.01,0,0,\\dots)^T)}{2\\cdot 0.01}.$$\n",
        "(We add the transpose so that these are column vectors.)\n",
        "**This process should be done for each dimension independently,\n",
        "and together the results of each computation are compiled to give the\n",
        "estimated gradient, which is $d$ dimensional.**\n",
        "\n",
        "Implement this as a function `num_grad` that takes as arguments the\n",
        "objective function `f` and a value of `delta`, and returns a new\n",
        "**function** that takes an `x` (a column vector of parameters) and\n",
        "returns a gradient column vector.\n",
        "\n",
        "**Note:** As in the previous part, make sure you do not modify your input vector."
      ]
    },
    {
      "cell_type": "code",
      "metadata": {
        "id": "WPVwGZ-l6XvW"
      },
      "source": [
        "def num_grad(f, delta=0.001):\n",
        "    def df(x):\n",
        "        ans = []\n",
        "        d, n = np.shape(x)\n",
        "        for i in range(d):\n",
        "          dif = np.zeros((d,1))\n",
        "          dif[i][0] += delta \n",
        "          ans.append((f(x+dif)-f(x-dif))/(2*0.01))\n",
        "        return np.array([ans]).T\n",
        "    return df"
      ],
      "execution_count": 10,
      "outputs": []
    },
    {
      "cell_type": "markdown",
      "metadata": {
        "id": "kElTR0bL7cbG"
      },
      "source": [
        "The test cases are shown below; these use the functions defined in the previous exercise.\n"
      ]
    },
    {
      "cell_type": "code",
      "metadata": {
        "id": "3D7BHu4S7Z8D"
      },
      "source": [
        "x = cv([0.])\n",
        "ans=(num_grad(f1)(x).tolist(), x.tolist())\n",
        "\n",
        "x = cv([0.1])\n",
        "ans=(num_grad(f1)(x).tolist(), x.tolist())\n",
        "\n",
        "x = cv([0., 0.])\n",
        "ans=(num_grad(f2)(x).tolist(), x.tolist())\n",
        "\n",
        "x = cv([0.1, -0.1])\n",
        "ans=(num_grad(f2)(x).tolist(), x.tolist())"
      ],
      "execution_count": 11,
      "outputs": []
    },
    {
      "cell_type": "markdown",
      "metadata": {
        "id": "WASaSsYu75sG"
      },
      "source": [
        "A faster (one function evaluation per entry), though sometimes less\n",
        "accurate, estimate is to use:\n",
        "$$\\frac{f(x_0+\\delta^{i}) - f(x_0)}{\\delta}$$\n",
        "for the $i^{th}$ component of $\\nabla_x f(x_0).$"
      ]
    },
    {
      "cell_type": "markdown",
      "metadata": {
        "id": "E31sdqyG78jD"
      },
      "source": [
        "### 6.3) Using the Numerical Gradient\n",
        "Recall that our generic gradient descent function takes both a function\n",
        "`f` that returns the value of our function at a given point, and `df`,\n",
        "a function that returns a gradient at a given point.  Write a function\n",
        "`minimize` that takes only a function `f` and uses this function and\n",
        "numerical gradient descent to return the local minimum.  We have\n",
        "provided you with our implementations of `num_grad` and `gd`, so you\n",
        "should not redefine them in the code box below.\n",
        "You may use the default of `delta=0.001` for `num_grad`.\n",
        "\n",
        "**Hint:** Your definition of `minimize` should call `num_grad` exactly\n",
        "once, to return a function that is called many times.\n",
        "You should return the same outputs as `gd`."
      ]
    },
    {
      "cell_type": "code",
      "metadata": {
        "id": "CStwqDem76Bx"
      },
      "source": [
        "def minimize(f, x0, step_size_fn, max_iter):\n",
        "    pass"
      ],
      "execution_count": null,
      "outputs": []
    },
    {
      "cell_type": "markdown",
      "metadata": {
        "id": "4gl0FTby8EQq"
      },
      "source": [
        "The test cases are below."
      ]
    },
    {
      "cell_type": "code",
      "metadata": {
        "id": "UxBLWJFm8DnV"
      },
      "source": [
        "ans = package_ans(minimize(f1, cv([0.]), lambda i: 0.1, 1000))\n",
        "\n",
        "ans = package_ans(minimize(f2, cv([0., 0.]), lambda i: 0.01, 1000))"
      ],
      "execution_count": null,
      "outputs": []
    },
    {
      "cell_type": "markdown",
      "metadata": {
        "id": "BH-1e98V8LtM"
      },
      "source": [
        "## 7) Applying gradient descent to SVM objective\n",
        "\n",
        "**Note:** In this section,\n",
        "you will code many individual functions, each of which depends on previous ones.\n",
        "We **strongly recommend** that you test each of the components on your own to debug.\n",
        "\n",
        "### 7.1) Calculating the SVM objective\n",
        "\n",
        "Implement the single-argument hinge function, which computes $L_h$,\n",
        "and use that to implement hinge loss for a data point and separator.\n",
        "Using the latter function, implement the SVM objective.\n",
        "Note that these functions should work for matrix/vector arguments,\n",
        "so that we can compute the objective for a whole dataset with one call.\n",
        "<pre> x is d x n, y is 1 x n, th is d x 1, th0 is 1 x 1, lam is a scalar </pre>\n",
        "\n",
        "Hint: Look at `np.where` for implementing `hinge`."
      ]
    },
    {
      "cell_type": "code",
      "metadata": {
        "id": "F_6E78BF8e2W"
      },
      "source": [
        "def hinge(v):\n",
        "    return np.where(v<1, 1-v, 0)\n",
        "\n",
        "# x is dxn, y is 1xn, th is dx1, th0 is 1x1\n",
        "def hinge_loss(x, y, th, th0):\n",
        "    return hinge(y*(np.dot(th.T, x)+th0))\n",
        "\n",
        "# x is dxn, y is 1xn, th is dx1, th0 is 1x1, lam is a scalar\n",
        "def svm_obj(x, y, th, th0, lam):\n",
        "    n = y.shape[1]\n",
        "    return np.sum(hinge_loss(x, y, th, th0))/n+lam*np.linalg.norm(th)**2"
      ],
      "execution_count": 4,
      "outputs": []
    },
    {
      "cell_type": "code",
      "metadata": {
        "id": "muPDf4etYsoy",
        "colab": {
          "base_uri": "https://localhost:8080/"
        },
        "outputId": "dcac0fb8-a131-48d1-9bbb-f1940539aaa2"
      },
      "source": [
        "test_1 = np.array([1,2,0.1])\n",
        "print(hinge(test_1))"
      ],
      "execution_count": 16,
      "outputs": [
        {
          "output_type": "stream",
          "text": [
            "[0.  0.  0.9]\n"
          ],
          "name": "stdout"
        }
      ]
    },
    {
      "cell_type": "markdown",
      "metadata": {
        "id": "QY1NJEOP8jCC"
      },
      "source": [
        "In the test cases for this problem, we'll use the following\n",
        "`super_simple_separable` test dataset and test separator for some of\n",
        "the tests.  A couple of the test cases are also shown below."
      ]
    },
    {
      "cell_type": "code",
      "metadata": {
        "id": "POFvK7zW8iYK"
      },
      "source": [
        "def super_simple_separable():\n",
        "    X = np.array([[2, 3, 9, 12],\n",
        "                  [5, 2, 6, 5]])\n",
        "    y = np.array([[1, -1, 1, -1]])\n",
        "    return X, y\n",
        "\n",
        "sep_e_separator = np.array([[-0.40338351], [1.1849563]]), np.array([[-2.26910091]])\n",
        "\n",
        "# Test case 1\n",
        "x_1, y_1 = super_simple_separable()\n",
        "th1, th1_0 = sep_e_separator\n",
        "ans = svm_obj(x_1, y_1, th1, th1_0, .1)\n",
        "\n",
        "# Test case 2\n",
        "ans = svm_obj(x_1, y_1, th1, th1_0, 0.0)"
      ],
      "execution_count": 5,
      "outputs": []
    },
    {
      "cell_type": "markdown",
      "metadata": {
        "id": "ZjBB0R4u8tF1"
      },
      "source": [
        "### 7.2) Calculating the SVM gradient\n",
        "\n",
        "Define a function `svm_obj_grad` that returns the gradient of the SVM\n",
        "objective function with respect to $\\theta$ and $\\theta_0$ in a single\n",
        "column vector.  The last component of the gradient vector should be\n",
        "the partial derivative with respect to $\\theta_0$.  Look at\n",
        "`np.vstack` as a simple way of stacking two matrices/vectors\n",
        "vertically.  We have broken it down into pieces that mimic steps in\n",
        "the chain rule; this leads to code that is a bit inefficient but\n",
        "easier to write and debug.  We can worry about efficiency later."
      ]
    },
    {
      "cell_type": "code",
      "metadata": {
        "id": "lAtDiGVK8vnt"
      },
      "source": [
        "def d_hinge(v):\n",
        "    return np.where(v<1, -1, 0)\n",
        "\n",
        "# Returns the gradient of hinge_loss(x, y, th, th0) with respect to th\n",
        "def d_hinge_loss_th(x, y, th, th0):\n",
        "    return np.where((y*(np.dot(th.T, x)+th0))<1, -y*x, 0)\n",
        "\n",
        "# Returns the gradient of hinge_loss(x, y, th, th0) with respect to th0\n",
        "def d_hinge_loss_th0(x, y, th, th0):\n",
        "    return np.where((y*(np.dot(th.T, x)+th0))<1, -y, 0)\n",
        "\n",
        "# Returns the gradient of svm_obj(x, y, th, th0) with respect to th\n",
        "def d_svm_obj_th(x, y, th, th0, lam):\n",
        "    n = y.shape[1]\n",
        "    \n",
        "    return np.sum(d_hinge_loss_th(x, y, th, th0), axis=1,keepdims=True)/n+2*lam*th\n",
        "\n",
        "# Returns the gradient of svm_obj(x, y, th, th0) with respect to th0\n",
        "def d_svm_obj_th0(x, y, th, th0, lam):\n",
        "    n = y.shape[1]\n",
        "    \n",
        "    return np.array([[np.sum(d_hinge_loss_th0(x, y, th, th0))/n]])\n",
        "\n",
        "# Returns the full gradient as a single vector (which includes both th, th0)\n",
        "def svm_obj_grad(X, y, th, th0, lam):\n",
        "    return np.vstack((d_svm_obj_th(X, y, th, th0, lam), d_svm_obj_th0(X, y, th, th0, lam)))"
      ],
      "execution_count": 29,
      "outputs": []
    },
    {
      "cell_type": "code",
      "metadata": {
        "id": "OPjFac-nY1Z4"
      },
      "source": [
        "# add your tests here"
      ],
      "execution_count": null,
      "outputs": []
    },
    {
      "cell_type": "markdown",
      "metadata": {
        "id": "LDP6H_2P80vm"
      },
      "source": [
        "Some test cases that may be of use are shown below."
      ]
    },
    {
      "cell_type": "code",
      "metadata": {
        "id": "xNuF6-c38yji"
      },
      "source": [
        "X1 = np.array([[1, 2, 3, 9, 10]])\n",
        "y1 = np.array([[1, 1, 1, -1, -1]])\n",
        "th1, th10 = np.array([[-0.31202807]]), np.array([[1.834     ]])\n",
        "X2 = np.array([[2, 3, 9, 12],\n",
        "               [5, 2, 6, 5]])\n",
        "y2 = np.array([[1, -1, 1, -1]])\n",
        "th2, th20=np.array([[ -3.,  15.]]).T, np.array([[ 2.]])"
      ],
      "execution_count": 10,
      "outputs": []
    },
    {
      "cell_type": "code",
      "metadata": {
        "id": "tZ9Q6k935tLY",
        "colab": {
          "base_uri": "https://localhost:8080/"
        },
        "outputId": "34b24aff-6682-4f54-cc81-2e6b7323966a"
      },
      "source": [
        "d_hinge(np.array([[ 71.]])).tolist()\n",
        "d_hinge(np.array([[ -23.]])).tolist()\n",
        "d_hinge(np.array([[ 71, -23.]])).tolist()\n",
        "print(d_hinge(np.array([[ 71.]])).tolist())"
      ],
      "execution_count": 6,
      "outputs": [
        {
          "output_type": "stream",
          "text": [
            "[[0]]\n"
          ],
          "name": "stdout"
        }
      ]
    },
    {
      "cell_type": "code",
      "metadata": {
        "id": "5fcjaWEo5uWo",
        "colab": {
          "base_uri": "https://localhost:8080/"
        },
        "outputId": "587cf316-a977-4fa3-c73d-fdb3224fea71"
      },
      "source": [
        "print(d_hinge_loss_th(X2[:,0:1], y2[:,0:1], th2, th20).tolist())\n",
        "print(d_hinge_loss_th(X2, y2, th2, th20).tolist())\n",
        "#d_hinge_loss_th0(X2[:,0:1], y2[:,0:1], th2, th20).tolist()\n",
        "#d_hinge_loss_th0(X2, y2, th2, th20).tolist()"
      ],
      "execution_count": 22,
      "outputs": [
        {
          "output_type": "stream",
          "text": [
            "[[0], [0]]\n",
            "[[0, 3, 0, 12], [0, 2, 0, 5]]\n"
          ],
          "name": "stdout"
        }
      ]
    },
    {
      "cell_type": "code",
      "metadata": {
        "id": "FkjrEb5y5xBU",
        "colab": {
          "base_uri": "https://localhost:8080/"
        },
        "outputId": "2ca97ddd-922e-425b-82fe-93f2bb4c6728"
      },
      "source": [
        "d_svm_obj_th(X2[:,0:1], y2[:,0:1], th2, th20, 0.01).tolist()\n",
        "print(d_svm_obj_th(X2, y2, th2, th20, 0.01).tolist())\n",
        "d_svm_obj_th0(X2[:,0:1], y2[:,0:1], th2, th20, 0.01).tolist()\n",
        "d_svm_obj_th0(X2, y2, th2, th20, 0.01).tolist()"
      ],
      "execution_count": 30,
      "outputs": [
        {
          "output_type": "stream",
          "text": [
            "[[3.69], [2.05]]\n"
          ],
          "name": "stdout"
        },
        {
          "output_type": "execute_result",
          "data": {
            "text/plain": [
              "[[0.5]]"
            ]
          },
          "metadata": {
            "tags": []
          },
          "execution_count": 30
        }
      ]
    },
    {
      "cell_type": "code",
      "metadata": {
        "id": "BB7axWab58Lp"
      },
      "source": [
        "svm_obj_grad(X2, y2, th2, th20, 0.01).tolist()\n",
        "svm_obj_grad(X2[:,0:1], y2[:,0:1], th2, th20, 0.01).tolist()"
      ],
      "execution_count": null,
      "outputs": []
    },
    {
      "cell_type": "markdown",
      "metadata": {
        "id": "3vf6OFEU89pC"
      },
      "source": [
        "### 7.3) Batch SVM minimize\n",
        "\n",
        "Putting it all together, use the functions you built earlier to write\n",
        "a gradient descent minimizer for the SVM objective.  You do not need\n",
        "to paste in your previous definitions; you can just call the ones\n",
        "defined by the staff.  You will need to call `gd`, which is already\n",
        "defined for you as well; your function `batch_svm_min` should return\n",
        "the values that `gd` does.\n",
        "\n",
        "* Initialize all the separator parameters to zero,\n",
        "* use the step size function provided below, and\n",
        "* specify 10 iterations."
      ]
    },
    {
      "cell_type": "code",
      "metadata": {
        "id": "dIqWIYnq8_Nb"
      },
      "source": [
        "def batch_svm_min(data, labels, lam):\n",
        "    def svm_min_step_size_fn(i):\n",
        "       return 2/(i+1)**0.5\n",
        "\n",
        "    d, n = data.shape\n",
        "    th = np.zeros((d,1))\n",
        "    th0 = np.zeros((1,1))\n",
        "    x0 = np.vstack((th, th0))\n",
        "    def f(x):\n",
        "      th = x[:-1][:]\n",
        "      th0 = x[-1:][:]\n",
        "      return svm_obj(data, labels, th, th0, lam)\n",
        "    def df(x):\n",
        "      th = x[:-1][:]\n",
        "      th0 = x[-1:][:]\n",
        "      return svm_obj_grad(data, labels, th, th0, lam)\n",
        "\n",
        "    return gd(f, df, x0, svm_min_step_size_fn, 10)"
      ],
      "execution_count": 14,
      "outputs": []
    },
    {
      "cell_type": "markdown",
      "metadata": {
        "id": "JH4xd7C-9BIm"
      },
      "source": [
        "Test cases are shown below, where an additional separable test\n",
        "data set has been specified."
      ]
    },
    {
      "cell_type": "code",
      "metadata": {
        "id": "HgOC_i879Acd",
        "colab": {
          "base_uri": "https://localhost:8080/",
          "height": 317
        },
        "outputId": "5bbe1d72-8517-49a2-ee65-411e549d267f"
      },
      "source": [
        "def separable_medium():\n",
        "    X = np.array([[2, -1, 1, 1],\n",
        "                  [-2, 2, 2, -1]])\n",
        "    y = np.array([[1, -1, 1, -1]])\n",
        "    return X, y\n",
        "sep_m_separator = np.array([[ 2.69231855], [ 0.67624906]]), np.array([[-3.02402521]])\n",
        "\n",
        "x_1, y_1 = super_simple_separable()\n",
        "ans = package_ans(batch_svm_min(x_1, y_1, 0.0001))\n",
        "\n",
        "x_1, y_1 = separable_medium()\n",
        "ans = package_ans(batch_svm_min(x_1, y_1, 0.0001))"
      ],
      "execution_count": 15,
      "outputs": [
        {
          "output_type": "error",
          "ename": "NameError",
          "evalue": "ignored",
          "traceback": [
            "\u001b[0;31m---------------------------------------------------------------------------\u001b[0m",
            "\u001b[0;31mNameError\u001b[0m                                 Traceback (most recent call last)",
            "\u001b[0;32m<ipython-input-15-c7acfb2978b7>\u001b[0m in \u001b[0;36m<module>\u001b[0;34m()\u001b[0m\n\u001b[1;32m      7\u001b[0m \u001b[0;34m\u001b[0m\u001b[0m\n\u001b[1;32m      8\u001b[0m \u001b[0mx_1\u001b[0m\u001b[0;34m,\u001b[0m \u001b[0my_1\u001b[0m \u001b[0;34m=\u001b[0m \u001b[0msuper_simple_separable\u001b[0m\u001b[0;34m(\u001b[0m\u001b[0;34m)\u001b[0m\u001b[0;34m\u001b[0m\u001b[0;34m\u001b[0m\u001b[0m\n\u001b[0;32m----> 9\u001b[0;31m \u001b[0mans\u001b[0m \u001b[0;34m=\u001b[0m \u001b[0mpackage_ans\u001b[0m\u001b[0;34m(\u001b[0m\u001b[0mbatch_svm_min\u001b[0m\u001b[0;34m(\u001b[0m\u001b[0mx_1\u001b[0m\u001b[0;34m,\u001b[0m \u001b[0my_1\u001b[0m\u001b[0;34m,\u001b[0m \u001b[0;36m0.0001\u001b[0m\u001b[0;34m)\u001b[0m\u001b[0;34m)\u001b[0m\u001b[0;34m\u001b[0m\u001b[0;34m\u001b[0m\u001b[0m\n\u001b[0m\u001b[1;32m     10\u001b[0m \u001b[0;34m\u001b[0m\u001b[0m\n\u001b[1;32m     11\u001b[0m \u001b[0mx_1\u001b[0m\u001b[0;34m,\u001b[0m \u001b[0my_1\u001b[0m \u001b[0;34m=\u001b[0m \u001b[0mseparable_medium\u001b[0m\u001b[0;34m(\u001b[0m\u001b[0;34m)\u001b[0m\u001b[0;34m\u001b[0m\u001b[0;34m\u001b[0m\u001b[0m\n",
            "\u001b[0;32m<ipython-input-14-4c9859533a9e>\u001b[0m in \u001b[0;36mbatch_svm_min\u001b[0;34m(data, labels, lam)\u001b[0m\n\u001b[1;32m     16\u001b[0m       \u001b[0;32mreturn\u001b[0m \u001b[0msvm_obj_grad\u001b[0m\u001b[0;34m(\u001b[0m\u001b[0mdata\u001b[0m\u001b[0;34m,\u001b[0m \u001b[0mlabels\u001b[0m\u001b[0;34m,\u001b[0m \u001b[0mth\u001b[0m\u001b[0;34m,\u001b[0m \u001b[0mth0\u001b[0m\u001b[0;34m,\u001b[0m \u001b[0mlam\u001b[0m\u001b[0;34m)\u001b[0m\u001b[0;34m\u001b[0m\u001b[0;34m\u001b[0m\u001b[0m\n\u001b[1;32m     17\u001b[0m \u001b[0;34m\u001b[0m\u001b[0m\n\u001b[0;32m---> 18\u001b[0;31m     \u001b[0;32mreturn\u001b[0m \u001b[0mgd\u001b[0m\u001b[0;34m(\u001b[0m\u001b[0mf\u001b[0m\u001b[0;34m,\u001b[0m \u001b[0mdf\u001b[0m\u001b[0;34m,\u001b[0m \u001b[0mx0\u001b[0m\u001b[0;34m,\u001b[0m \u001b[0msvm_min_step_size_fn\u001b[0m\u001b[0;34m,\u001b[0m \u001b[0;36m10\u001b[0m\u001b[0;34m)\u001b[0m\u001b[0;34m\u001b[0m\u001b[0;34m\u001b[0m\u001b[0m\n\u001b[0m",
            "\u001b[0;31mNameError\u001b[0m: name 'gd' is not defined"
          ]
        }
      ]
    },
    {
      "cell_type": "markdown",
      "metadata": {
        "id": "4tFslLvo5X9w"
      },
      "source": [
        "### 7.4) Numerical SVM objective (Optional)\n",
        "\n",
        "Recall from the previous question that we were able to closely approximate gradients\n",
        "with numerical estimates.\n",
        "We may apply the same technique to optimize the SVM objective.\n",
        "\n",
        "Using your definition of `minimize` and `num_grad` from the previous problem,\n",
        "implement a function that optimizes the SVM objective through numeric approximations.\n",
        "\n",
        "How well does this function perform, compared to the analytical result?\n",
        "Consider both accuracy and runtime."
      ]
    },
    {
      "cell_type": "code",
      "metadata": {
        "id": "bLt1LwN05b3k"
      },
      "source": [
        "# your code here"
      ],
      "execution_count": null,
      "outputs": []
    },
    {
      "cell_type": "code",
      "metadata": {
        "id": "AMYsftVagW1p",
        "outputId": "56850b4b-0101-45dd-8aaf-2f1dfa250f2c",
        "colab": {
          "base_uri": "https://localhost:8080/"
        }
      },
      "source": [
        "test = np.array([[1],[2],[3]])\n",
        "print(test[-1:][:])"
      ],
      "execution_count": 11,
      "outputs": [
        {
          "output_type": "stream",
          "text": [
            "[[3]]\n"
          ],
          "name": "stdout"
        }
      ]
    }
  ]
}